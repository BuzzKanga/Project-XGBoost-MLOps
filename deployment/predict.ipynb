{
 "cells": [
  {
   "cell_type": "code",
   "execution_count": 41,
   "metadata": {},
   "outputs": [],
   "source": [
    "import requests\n",
    "import json\n",
    "import pandas as pd"
   ]
  },
  {
   "cell_type": "code",
   "execution_count": 43,
   "metadata": {},
   "outputs": [],
   "source": [
    "customer = {\n",
    "    \"State\":\"FL\",\n",
    "    \"Account Length\":131,\n",
    "    \"Area Code\":707,\n",
    "    \"Int'l Plan\":\"no\",\n",
    "    \"VMail Plan\":\"yes\",\n",
    "    \"VMail Message\":400,\n",
    "    \"Day Mins\":4.6298486156,\n",
    "    \"Day Calls\":4,\n",
    "    \"Eve Mins\":3.5019160814,\n",
    "    \"Eve Calls\":1,\n",
    "    \"Night Mins\":4.0989253823,\n",
    "    \"Night Calls\":150,\n",
    "    \"Intl Mins\":4.3284419486,\n",
    "    \"Intl Calls\":4,\n",
    "    \"CustServ Calls\":6\n",
    "}"
   ]
  },
  {
   "cell_type": "code",
   "execution_count": 44,
   "metadata": {},
   "outputs": [
    {
     "data": {
      "text/plain": [
       "'{\"State\": \"FL\", \"Account Length\": 131, \"Area Code\": 707, \"Int\\'l Plan\": \"no\", \"VMail Plan\": \"yes\", \"VMail Message\": 400, \"Day Mins\": 4.6298486156, \"Day Calls\": 4, \"Eve Mins\": 3.5019160814, \"Eve Calls\": 1, \"Night Mins\": 4.0989253823, \"Night Calls\": 150, \"Intl Mins\": 4.3284419486, \"Intl Calls\": 4, \"CustServ Calls\": 6}'"
      ]
     },
     "execution_count": 44,
     "metadata": {},
     "output_type": "execute_result"
    }
   ],
   "source": [
    "customer_json = json.dumps(customer)\n",
    "customer_json"
   ]
  },
  {
   "cell_type": "code",
   "execution_count": 34,
   "metadata": {},
   "outputs": [
    {
     "data": {
      "text/plain": [
       "{'State': 'FL',\n",
       " 'Account Length': 131,\n",
       " 'Area Code': 707,\n",
       " \"Int'l Plan\": 'no',\n",
       " 'VMail Plan': 'yes',\n",
       " 'VMail Message': 400,\n",
       " 'Day Mins': 4.6298486156,\n",
       " 'Day Calls': 4,\n",
       " 'Eve Mins': 3.5019160814,\n",
       " 'Eve Calls': 1,\n",
       " 'Night Mins': 4.0989253823,\n",
       " 'Night Calls': 150,\n",
       " 'Intl Mins': 4.3284419486,\n",
       " 'Intl Calls': 4,\n",
       " 'CustServ Calls': 1}"
      ]
     },
     "execution_count": 34,
     "metadata": {},
     "output_type": "execute_result"
    }
   ],
   "source": [
    "customer"
   ]
  },
  {
   "cell_type": "code",
   "execution_count": 45,
   "metadata": {},
   "outputs": [],
   "source": [
    "url = 'http://localhost:9696/predict'"
   ]
  },
  {
   "cell_type": "code",
   "execution_count": 46,
   "metadata": {},
   "outputs": [
    {
     "data": {
      "text/plain": [
       "{'churn': True, 'churn_probability': 0.50536048412323}"
      ]
     },
     "execution_count": 46,
     "metadata": {},
     "output_type": "execute_result"
    }
   ],
   "source": [
    "requests.post(url, json=customer_json).json()"
   ]
  },
  {
   "cell_type": "code",
   "execution_count": 31,
   "metadata": {},
   "outputs": [
    {
     "data": {
      "text/html": [
       "<div>\n",
       "<style scoped>\n",
       "    .dataframe tbody tr th:only-of-type {\n",
       "        vertical-align: middle;\n",
       "    }\n",
       "\n",
       "    .dataframe tbody tr th {\n",
       "        vertical-align: top;\n",
       "    }\n",
       "\n",
       "    .dataframe thead th {\n",
       "        text-align: right;\n",
       "    }\n",
       "</style>\n",
       "<table border=\"1\" class=\"dataframe\">\n",
       "  <thead>\n",
       "    <tr style=\"text-align: right;\">\n",
       "      <th></th>\n",
       "      <th>Churn?</th>\n",
       "    </tr>\n",
       "  </thead>\n",
       "  <tbody>\n",
       "    <tr>\n",
       "      <th>0</th>\n",
       "      <td>0</td>\n",
       "    </tr>\n",
       "  </tbody>\n",
       "</table>\n",
       "</div>"
      ],
      "text/plain": [
       "   Churn?\n",
       "0       0"
      ]
     },
     "execution_count": 31,
     "metadata": {},
     "output_type": "execute_result"
    }
   ],
   "source": [
    " y_test_customer = pd.DataFrame({'Churn?':[0]})\n",
    "y_test_customer"
   ]
  },
  {
   "cell_type": "code",
   "execution_count": 32,
   "metadata": {},
   "outputs": [
    {
     "data": {
      "text/plain": [
       "Churn?    int64\n",
       "dtype: object"
      ]
     },
     "execution_count": 32,
     "metadata": {},
     "output_type": "execute_result"
    }
   ],
   "source": [
    "y_test_customer.dtypes"
   ]
  }
 ],
 "metadata": {
  "kernelspec": {
   "display_name": "Project-XGBoost-MLOps-xNRnV9Oe",
   "language": "python",
   "name": "python3"
  },
  "language_info": {
   "codemirror_mode": {
    "name": "ipython",
    "version": 3
   },
   "file_extension": ".py",
   "mimetype": "text/x-python",
   "name": "python",
   "nbconvert_exporter": "python",
   "pygments_lexer": "ipython3",
   "version": "3.11.3"
  },
  "orig_nbformat": 4
 },
 "nbformat": 4,
 "nbformat_minor": 2
}
