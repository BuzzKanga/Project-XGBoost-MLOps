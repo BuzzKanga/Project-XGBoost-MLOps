{
  "cells": [
    {
      "cell_type": "markdown",
      "metadata": {
        "id": "ibrA138q0hCZ"
      },
      "source": [
        "# XGBoost Base Model"
      ]
    },
    {
      "cell_type": "code",
      "execution_count": null,
      "metadata": {
        "colab": {
          "base_uri": "https://localhost:8080/",
          "height": 206
        },
        "id": "yrp1ffGEvrie",
        "outputId": "999856a2-d201-4717-da19-c5b585ac50f5"
      },
      "outputs": [],
      "source": [
        "import pandas as pd\n",
        "import numpy as np\n",
        "import matplotlib.pyplot as plt\n",
        "import warnings\n",
        "import mlflow\n",
        "import xgboost as xgb\n",
        "from sklearn.model_selection import train_test_split\n",
        "from sklearn.metrics import accuracy_score\n",
        "# from xgboost import XGBClassifier\n",
        "# from hyperopt import fmin, tpe, hp, STATUS_OK, Trials\n",
        "# from hyperopt.pyll import scope\n",
        "\n",
        "\n",
        "warnings.filterwarnings(\"ignore\")"
      ]
    },
    {
      "cell_type": "markdown",
      "metadata": {},
      "source": [
        "# Data Setup"
      ]
    },
    {
      "cell_type": "code",
      "execution_count": null,
      "metadata": {
        "colab": {
          "base_uri": "https://localhost:8080/",
          "height": 679
        },
        "id": "O3i0nMU-cKl3",
        "outputId": "f88e7aef-5543-4dae-d768-a8be6fd5974c"
      },
      "outputs": [],
      "source": [
        "# read input data\n",
        "churn = pd.read_csv(\"../data/churn.txt\")\n",
        "pd.set_option(\"display.max_columns\", 500)"
      ]
    },
    {
      "cell_type": "code",
      "execution_count": null,
      "metadata": {
        "id": "bWEKXwPFf3Q-"
      },
      "outputs": [],
      "source": [
        "churn = churn.drop([\"Phone\", \"Day Charge\", \"Eve Charge\", \"Night Charge\", \"Intl Charge\"], axis=1)\n",
        "churn[\"Area Code\"] = churn[\"Area Code\"].astype(object)"
      ]
    },
    {
      "cell_type": "markdown",
      "metadata": {},
      "source": [
        "# Train Model"
      ]
    },
    {
      "cell_type": "code",
      "execution_count": null,
      "metadata": {
        "id": "h5CKaboRwCFh"
      },
      "outputs": [],
      "source": [
        "# Extract feature and target arrays\n",
        "X, y = churn.drop('Churn?', axis=1), churn[['Churn?']]"
      ]
    },
    {
      "cell_type": "code",
      "execution_count": null,
      "metadata": {
        "id": "5wsbzWFnwP0l"
      },
      "outputs": [],
      "source": [
        "# Extract text features\n",
        "cats = X.select_dtypes(exclude=np.number).columns.tolist()\n",
        "\n",
        "# Convert to Pandas category\n",
        "for col in cats:\n",
        "   X[col] = X[col].astype('category')"
      ]
    },
    {
      "cell_type": "code",
      "execution_count": null,
      "metadata": {
        "id": "t5-6ceVdg8KV"
      },
      "outputs": [],
      "source": [
        "y['Churn?'] = y['Churn?'].replace({'True.': 1, 'False.': 0})"
      ]
    },
    {
      "cell_type": "code",
      "execution_count": null,
      "metadata": {
        "id": "_Gp5-INXwfwO"
      },
      "outputs": [],
      "source": [
        "# Split the data\n",
        "X_train, X_test, y_train, y_test = train_test_split(X, y, random_state=1)"
      ]
    },
    {
      "cell_type": "code",
      "execution_count": null,
      "metadata": {},
      "outputs": [],
      "source": [
        "X_test.shape"
      ]
    },
    {
      "cell_type": "code",
      "execution_count": null,
      "metadata": {},
      "outputs": [],
      "source": [
        "X_test.head()"
      ]
    },
    {
      "cell_type": "code",
      "execution_count": null,
      "metadata": {},
      "outputs": [],
      "source": [
        "X_test_customer = X_test.iloc[0]\n",
        "y_test_customer = y_test.iloc[0]"
      ]
    },
    {
      "cell_type": "code",
      "execution_count": null,
      "metadata": {},
      "outputs": [],
      "source": [
        "print(X_test_customer)\n",
        "print(y_test_customer)"
      ]
    },
    {
      "cell_type": "code",
      "execution_count": null,
      "metadata": {},
      "outputs": [],
      "source": [
        "import pandas as pd\n",
        "\n",
        "# Sample object to check\n",
        "my_object = X_test\n",
        "\n",
        "# Check if the object is a DataFrame\n",
        "if isinstance(my_object, pd.DataFrame):\n",
        "    print(\"It's a DataFrame!\")\n",
        "else:\n",
        "    print(\"It's not a DataFrame.\")\n"
      ]
    },
    {
      "cell_type": "code",
      "execution_count": null,
      "metadata": {},
      "outputs": [],
      "source": [
        "import pandas as pd\n",
        "\n",
        "# Sample object to check\n",
        "my_object = X_test_customer\n",
        "\n",
        "# Check if the object is a pandas data structure (DataFrame or Series)\n",
        "if issubclass(type(my_object), (pd.DataFrame, pd.Series)):\n",
        "    print(\"It's a pandas data structure!\")\n",
        "else:\n",
        "    print(\"It's not a pandas data structure.\")\n"
      ]
    },
    {
      "cell_type": "code",
      "execution_count": null,
      "metadata": {},
      "outputs": [],
      "source": [
        "import pandas as pd\n",
        "\n",
        "# Sample pandas object (DataFrame or Series)\n",
        "my_object = X_test_customer\n",
        "\n",
        "# Check the type of the object\n",
        "obj_type = type(my_object)\n",
        "\n",
        "# Print the type\n",
        "print(obj_type)\n"
      ]
    },
    {
      "cell_type": "code",
      "execution_count": null,
      "metadata": {},
      "outputs": [],
      "source": [
        "X_test_customer.dtypes"
      ]
    },
    {
      "cell_type": "code",
      "execution_count": null,
      "metadata": {},
      "outputs": [],
      "source": [
        "X_test_customer.shape"
      ]
    },
    {
      "cell_type": "code",
      "execution_count": null,
      "metadata": {},
      "outputs": [],
      "source": [
        "customer = X_test_customer.to_json()\n",
        "print(customer)"
      ]
    },
    {
      "cell_type": "code",
      "execution_count": null,
      "metadata": {},
      "outputs": [],
      "source": [
        "dtrain = xgb.DMatrix(X_train, label=y_train, enable_categorical=True)\n",
        "dtest = xgb.DMatrix(X_test_customer, label=y_test_customer, enable_categorical=True)"
      ]
    },
    {
      "cell_type": "markdown",
      "metadata": {},
      "source": [
        "# Train the best model"
      ]
    },
    {
      "cell_type": "code",
      "execution_count": null,
      "metadata": {},
      "outputs": [],
      "source": [
        "best_params = {\n",
        "    'learning_rate'\t: 0.2611886716276454,\n",
        "    'max_depth' : 39,\n",
        "    'min_child_weight' : 4.490391995734931,\n",
        "    'objective' : 'binary:logistic',\n",
        "    'reg_alpha' : 0.044567672488398144,\n",
        "    'reg_lambda' : 0.11968534468462336,\n",
        "    'seed' : 42\n",
        "}\n",
        "\n",
        "booster = xgb.train(\n",
        "    params=best_params,\n",
        "    dtrain=dtrain,\n",
        "    num_boost_round=1000,\n",
        "    evals=[(dtest,\"test\")],\n",
        "    early_stopping_rounds=50\n",
        ")"
      ]
    },
    {
      "cell_type": "markdown",
      "metadata": {},
      "source": [
        "# Make Single Prediction"
      ]
    },
    {
      "cell_type": "code",
      "execution_count": null,
      "metadata": {},
      "outputs": [],
      "source": [
        "# make prediction\n",
        "y_pred_prob = booster.predict(dtest)\n",
        "y_pred = (y_pred_prob >= 0.5).astype(int)\n"
      ]
    },
    {
      "cell_type": "code",
      "execution_count": null,
      "metadata": {},
      "outputs": [],
      "source": [
        "def predict_single(dtest, model):\n",
        "    y_pred_prob = booster.predict(dtest)\n",
        "    y_pred = (y_pred_prob >= 0.5).astype(int)\n",
        "    \n",
        "    return y_pred[0]"
      ]
    },
    {
      "cell_type": "code",
      "execution_count": null,
      "metadata": {},
      "outputs": [],
      "source": [
        "predict_single(dtest, booster)"
      ]
    },
    {
      "cell_type": "code",
      "execution_count": null,
      "metadata": {},
      "outputs": [],
      "source": [
        "import pickle \n",
        "\n",
        "with open('../models/churn-model.bin', 'wb') as f_out:\n",
        "    pickle.dump(booster, f_out)"
      ]
    },
    {
      "cell_type": "code",
      "execution_count": null,
      "metadata": {},
      "outputs": [],
      "source": [
        "import requests\n",
        "customer = X_test_customer.to_json()\n",
        "url = 'http://localhost:9696/predict'\n",
        "response = requests.post(url, json=customer)\n",
        "result = response.json()\n",
        "result"
      ]
    }
  ],
  "metadata": {
    "colab": {
      "provenance": []
    },
    "kernelspec": {
      "display_name": "Python 3",
      "name": "python3"
    },
    "language_info": {
      "codemirror_mode": {
        "name": "ipython",
        "version": 3
      },
      "file_extension": ".py",
      "mimetype": "text/x-python",
      "name": "python",
      "nbconvert_exporter": "python",
      "pygments_lexer": "ipython3",
      "version": "3.11.3"
    }
  },
  "nbformat": 4,
  "nbformat_minor": 0
}
